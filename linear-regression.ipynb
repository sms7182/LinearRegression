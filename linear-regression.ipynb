{
 "cells": [
  {
   "cell_type": "code",
   "execution_count": 1,
   "id": "de536248",
   "metadata": {
    "_cell_guid": "b1076dfc-b9ad-4769-8c92-a6c4dae69d19",
    "_uuid": "8f2839f25d086af736a60e9eeb907d3b93b6e0e5",
    "execution": {
     "iopub.execute_input": "2022-07-21T13:51:46.335523Z",
     "iopub.status.busy": "2022-07-21T13:51:46.335088Z",
     "iopub.status.idle": "2022-07-21T13:51:47.804134Z",
     "shell.execute_reply": "2022-07-21T13:51:47.802976Z"
    },
    "papermill": {
     "duration": 1.477316,
     "end_time": "2022-07-21T13:51:47.806746",
     "exception": false,
     "start_time": "2022-07-21T13:51:46.329430",
     "status": "completed"
    },
    "tags": []
   },
   "outputs": [
    {
     "name": "stdout",
     "output_type": "stream",
     "text": [
      "/kaggle/input/random-linear-regression/train.csv\n",
      "/kaggle/input/random-linear-regression/test.csv\n"
     ]
    }
   ],
   "source": [
    "# This Python 3 environment comes with many helpful analytics libraries installed\n",
    "# It is defined by the kaggle/python Docker image: https://github.com/kaggle/docker-python\n",
    "# For example, here's several helpful packages to load\n",
    "\n",
    "import numpy as np # linear algebra\n",
    "import pandas as pd # data processing, CSV file I/O (e.g. pd.read_csv)\n",
    "import seaborn as sns\n",
    "from sklearn.linear_model import LinearRegression\n",
    "\n",
    "# Input data files are available in the read-only \"../input/\" directory\n",
    "# For example, running this (by clicking run or pressing Shift+Enter) will list all files under the input directory\n",
    "\n",
    "import os\n",
    "for dirname, _, filenames in os.walk('/kaggle/input'):\n",
    "    for filename in filenames:\n",
    "        print(os.path.join(dirname, filename))\n",
    "\n",
    "# You can write up to 20GB to the current directory (/kaggle/working/) that gets preserved as output when you create a version using \"Save & Run All\" \n",
    "# You can also write temporary files to /kaggle/temp/, but they won't be saved outside of the current session"
   ]
  },
  {
   "cell_type": "code",
   "execution_count": 2,
   "id": "7c682e02",
   "metadata": {
    "execution": {
     "iopub.execute_input": "2022-07-21T13:51:47.814982Z",
     "iopub.status.busy": "2022-07-21T13:51:47.814056Z",
     "iopub.status.idle": "2022-07-21T13:51:47.849678Z",
     "shell.execute_reply": "2022-07-21T13:51:47.848045Z"
    },
    "papermill": {
     "duration": 0.042365,
     "end_time": "2022-07-21T13:51:47.852166",
     "exception": false,
     "start_time": "2022-07-21T13:51:47.809801",
     "status": "completed"
    },
    "tags": []
   },
   "outputs": [
    {
     "data": {
      "text/html": [
       "<div>\n",
       "<style scoped>\n",
       "    .dataframe tbody tr th:only-of-type {\n",
       "        vertical-align: middle;\n",
       "    }\n",
       "\n",
       "    .dataframe tbody tr th {\n",
       "        vertical-align: top;\n",
       "    }\n",
       "\n",
       "    .dataframe thead th {\n",
       "        text-align: right;\n",
       "    }\n",
       "</style>\n",
       "<table border=\"1\" class=\"dataframe\">\n",
       "  <thead>\n",
       "    <tr style=\"text-align: right;\">\n",
       "      <th></th>\n",
       "      <th>x</th>\n",
       "      <th>y</th>\n",
       "    </tr>\n",
       "  </thead>\n",
       "  <tbody>\n",
       "    <tr>\n",
       "      <th>0</th>\n",
       "      <td>77</td>\n",
       "      <td>79.775152</td>\n",
       "    </tr>\n",
       "    <tr>\n",
       "      <th>1</th>\n",
       "      <td>21</td>\n",
       "      <td>23.177279</td>\n",
       "    </tr>\n",
       "    <tr>\n",
       "      <th>2</th>\n",
       "      <td>22</td>\n",
       "      <td>25.609262</td>\n",
       "    </tr>\n",
       "    <tr>\n",
       "      <th>3</th>\n",
       "      <td>20</td>\n",
       "      <td>17.857388</td>\n",
       "    </tr>\n",
       "    <tr>\n",
       "      <th>4</th>\n",
       "      <td>36</td>\n",
       "      <td>41.849864</td>\n",
       "    </tr>\n",
       "  </tbody>\n",
       "</table>\n",
       "</div>"
      ],
      "text/plain": [
       "    x          y\n",
       "0  77  79.775152\n",
       "1  21  23.177279\n",
       "2  22  25.609262\n",
       "3  20  17.857388\n",
       "4  36  41.849864"
      ]
     },
     "execution_count": 2,
     "metadata": {},
     "output_type": "execute_result"
    }
   ],
   "source": [
    "tr_df = pd.read_csv('../input/random-linear-regression/test.csv')\n",
    "tr_df.head()"
   ]
  },
  {
   "cell_type": "code",
   "execution_count": 3,
   "id": "be7e1172",
   "metadata": {
    "execution": {
     "iopub.execute_input": "2022-07-21T13:51:47.859795Z",
     "iopub.status.busy": "2022-07-21T13:51:47.859403Z",
     "iopub.status.idle": "2022-07-21T13:51:47.891463Z",
     "shell.execute_reply": "2022-07-21T13:51:47.890296Z"
    },
    "papermill": {
     "duration": 0.038583,
     "end_time": "2022-07-21T13:51:47.893790",
     "exception": false,
     "start_time": "2022-07-21T13:51:47.855207",
     "status": "completed"
    },
    "tags": []
   },
   "outputs": [
    {
     "data": {
      "text/html": [
       "<div>\n",
       "<style scoped>\n",
       "    .dataframe tbody tr th:only-of-type {\n",
       "        vertical-align: middle;\n",
       "    }\n",
       "\n",
       "    .dataframe tbody tr th {\n",
       "        vertical-align: top;\n",
       "    }\n",
       "\n",
       "    .dataframe thead th {\n",
       "        text-align: right;\n",
       "    }\n",
       "</style>\n",
       "<table border=\"1\" class=\"dataframe\">\n",
       "  <thead>\n",
       "    <tr style=\"text-align: right;\">\n",
       "      <th></th>\n",
       "      <th>x</th>\n",
       "      <th>y</th>\n",
       "    </tr>\n",
       "  </thead>\n",
       "  <tbody>\n",
       "    <tr>\n",
       "      <th>count</th>\n",
       "      <td>300.000000</td>\n",
       "      <td>300.000000</td>\n",
       "    </tr>\n",
       "    <tr>\n",
       "      <th>mean</th>\n",
       "      <td>50.936667</td>\n",
       "      <td>51.205051</td>\n",
       "    </tr>\n",
       "    <tr>\n",
       "      <th>std</th>\n",
       "      <td>28.504286</td>\n",
       "      <td>29.071481</td>\n",
       "    </tr>\n",
       "    <tr>\n",
       "      <th>min</th>\n",
       "      <td>0.000000</td>\n",
       "      <td>-3.467884</td>\n",
       "    </tr>\n",
       "    <tr>\n",
       "      <th>25%</th>\n",
       "      <td>27.000000</td>\n",
       "      <td>25.676502</td>\n",
       "    </tr>\n",
       "    <tr>\n",
       "      <th>50%</th>\n",
       "      <td>53.000000</td>\n",
       "      <td>52.170557</td>\n",
       "    </tr>\n",
       "    <tr>\n",
       "      <th>75%</th>\n",
       "      <td>73.000000</td>\n",
       "      <td>74.303007</td>\n",
       "    </tr>\n",
       "    <tr>\n",
       "      <th>max</th>\n",
       "      <td>100.000000</td>\n",
       "      <td>105.591837</td>\n",
       "    </tr>\n",
       "  </tbody>\n",
       "</table>\n",
       "</div>"
      ],
      "text/plain": [
       "                x           y\n",
       "count  300.000000  300.000000\n",
       "mean    50.936667   51.205051\n",
       "std     28.504286   29.071481\n",
       "min      0.000000   -3.467884\n",
       "25%     27.000000   25.676502\n",
       "50%     53.000000   52.170557\n",
       "75%     73.000000   74.303007\n",
       "max    100.000000  105.591837"
      ]
     },
     "execution_count": 3,
     "metadata": {},
     "output_type": "execute_result"
    }
   ],
   "source": [
    "tr_df.describe()"
   ]
  },
  {
   "cell_type": "code",
   "execution_count": 4,
   "id": "62004dc9",
   "metadata": {
    "execution": {
     "iopub.execute_input": "2022-07-21T13:51:47.902240Z",
     "iopub.status.busy": "2022-07-21T13:51:47.901600Z",
     "iopub.status.idle": "2022-07-21T13:51:48.141787Z",
     "shell.execute_reply": "2022-07-21T13:51:48.140309Z"
    },
    "papermill": {
     "duration": 0.247176,
     "end_time": "2022-07-21T13:51:48.144378",
     "exception": false,
     "start_time": "2022-07-21T13:51:47.897202",
     "status": "completed"
    },
    "tags": []
   },
   "outputs": [
    {
     "data": {
      "image/png": "[encoded data removed]",
      "text/plain": [
       "<Figure size 432x288 with 1 Axes>"
      ]
     },
     "metadata": {
      "needs_background": "light"
     },
     "output_type": "display_data"
    }
   ],
   "source": [
    "import matplotlib.pyplot as plt\n",
    "X=tr_df.loc[:,['x']]\n",
    "y=tr_df.loc[:,'y']\n",
    "model =LinearRegression()\n",
    "model.fit(X,y)\n",
    "y_pred=model.predict(X)\n",
    "y_pred = pd.Series(model.predict(X), index=X.index)\n",
    "fig, ax = plt.subplots()\n",
    "ax.plot(X['x'], y, '.', color='C3')\n",
    "ax.plot(X['x'], y_pred)\n",
    "ax.set_aspect('equal')\n",
    "ax.set_ylabel('random')\n",
    "ax.set_xlabel('x')\n",
    "ax.set_title('x Plot of random');"
   ]
  },
  {
   "cell_type": "code",
   "execution_count": 5,
   "id": "17a67df9",
   "metadata": {
    "execution": {
     "iopub.execute_input": "2022-07-21T13:51:48.152833Z",
     "iopub.status.busy": "2022-07-21T13:51:48.152412Z",
     "iopub.status.idle": "2022-07-21T13:51:48.158238Z",
     "shell.execute_reply": "2022-07-21T13:51:48.156973Z"
    },
    "papermill": {
     "duration": 0.013183,
     "end_time": "2022-07-21T13:51:48.161087",
     "exception": false,
     "start_time": "2022-07-21T13:51:48.147904",
     "status": "completed"
    },
    "tags": []
   },
   "outputs": [
    {
     "name": "stdout",
     "output_type": "stream",
     "text": [
      "[1.01433536]\n"
     ]
    }
   ],
   "source": [
    "print(model.coef_)\n"
   ]
  },
  {
   "cell_type": "code",
   "execution_count": 6,
   "id": "57c0e90f",
   "metadata": {
    "execution": {
     "iopub.execute_input": "2022-07-21T13:51:48.170378Z",
     "iopub.status.busy": "2022-07-21T13:51:48.169406Z",
     "iopub.status.idle": "2022-07-21T13:51:48.175014Z",
     "shell.execute_reply": "2022-07-21T13:51:48.173969Z"
    },
    "papermill": {
     "duration": 0.013327,
     "end_time": "2022-07-21T13:51:48.177864",
     "exception": false,
     "start_time": "2022-07-21T13:51:48.164537",
     "status": "completed"
    },
    "tags": []
   },
   "outputs": [
    {
     "name": "stdout",
     "output_type": "stream",
     "text": [
      "-0.4618107736611847\n"
     ]
    }
   ],
   "source": [
    "print(model.intercept_)"
   ]
  },
  {
   "cell_type": "code",
   "execution_count": 7,
   "id": "215afe39",
   "metadata": {
    "execution": {
     "iopub.execute_input": "2022-07-21T13:51:48.188239Z",
     "iopub.status.busy": "2022-07-21T13:51:48.187880Z",
     "iopub.status.idle": "2022-07-21T13:51:48.197938Z",
     "shell.execute_reply": "2022-07-21T13:51:48.196778Z"
    },
    "papermill": {
     "duration": 0.017048,
     "end_time": "2022-07-21T13:51:48.200138",
     "exception": false,
     "start_time": "2022-07-21T13:51:48.183090",
     "status": "completed"
    },
    "tags": []
   },
   "outputs": [
    {
     "data": {
      "text/html": [
       "<div>\n",
       "<style scoped>\n",
       "    .dataframe tbody tr th:only-of-type {\n",
       "        vertical-align: middle;\n",
       "    }\n",
       "\n",
       "    .dataframe tbody tr th {\n",
       "        vertical-align: top;\n",
       "    }\n",
       "\n",
       "    .dataframe thead th {\n",
       "        text-align: right;\n",
       "    }\n",
       "</style>\n",
       "<table border=\"1\" class=\"dataframe\">\n",
       "  <thead>\n",
       "    <tr style=\"text-align: right;\">\n",
       "      <th></th>\n",
       "      <th>Coeff</th>\n",
       "    </tr>\n",
       "  </thead>\n",
       "  <tbody>\n",
       "    <tr>\n",
       "      <th>x</th>\n",
       "      <td>1.014335</td>\n",
       "    </tr>\n",
       "  </tbody>\n",
       "</table>\n",
       "</div>"
      ],
      "text/plain": [
       "      Coeff\n",
       "x  1.014335"
      ]
     },
     "execution_count": 7,
     "metadata": {},
     "output_type": "execute_result"
    }
   ],
   "source": [
    "pd.DataFrame(model.coef_,X.columns,columns=['Coeff'])"
   ]
  },
  {
   "cell_type": "code",
   "execution_count": 8,
   "id": "6ea071e6",
   "metadata": {
    "execution": {
     "iopub.execute_input": "2022-07-21T13:51:48.208912Z",
     "iopub.status.busy": "2022-07-21T13:51:48.208558Z",
     "iopub.status.idle": "2022-07-21T13:51:48.405535Z",
     "shell.execute_reply": "2022-07-21T13:51:48.404421Z"
    },
    "papermill": {
     "duration": 0.203976,
     "end_time": "2022-07-21T13:51:48.407789",
     "exception": false,
     "start_time": "2022-07-21T13:51:48.203813",
     "status": "completed"
    },
    "tags": []
   },
   "outputs": [
    {
     "data": {
      "text/plain": [
       "<matplotlib.collections.PathCollection at 0x7f1c2f9b4b90>"
      ]
     },
     "execution_count": 8,
     "metadata": {},
     "output_type": "execute_result"
    },
    {
     "data": {
      "image/png": "[encoded data removed]",
      "text/plain": [
       "<Figure size 432x288 with 1 Axes>"
      ]
     },
     "metadata": {
      "needs_background": "light"
     },
     "output_type": "display_data"
    }
   ],
   "source": [
    "te_df=pd.read_csv('../input/random-linear-regression/test.csv')\n",
    "test_X=te_df.loc[:,['x']]\n",
    "test_y=te_df.loc[:,'y']\n",
    "predictions=model.predict(test_X)\n",
    "plt.scatter(test_y,predictions)"
   ]
  },
  {
   "cell_type": "code",
   "execution_count": 9,
   "id": "408d6add",
   "metadata": {
    "execution": {
     "iopub.execute_input": "2022-07-21T13:51:48.417557Z",
     "iopub.status.busy": "2022-07-21T13:51:48.417176Z",
     "iopub.status.idle": "2022-07-21T13:51:48.624727Z",
     "shell.execute_reply": "2022-07-21T13:51:48.623278Z"
    },
    "papermill": {
     "duration": 0.215339,
     "end_time": "2022-07-21T13:51:48.627344",
     "exception": false,
     "start_time": "2022-07-21T13:51:48.412005",
     "status": "completed"
    },
    "tags": []
   },
   "outputs": [
    {
     "data": {
      "text/plain": [
       "3.027257481717448"
      ]
     },
     "execution_count": 9,
     "metadata": {},
     "output_type": "execute_result"
    },
    {
     "data": {
      "image/png": "[encoded data removed]",
      "text/plain": [
       "<Figure size 432x288 with 1 Axes>"
      ]
     },
     "metadata": {
      "needs_background": "light"
     },
     "output_type": "display_data"
    }
   ],
   "source": [
    "plt.hist(test_y-predictions)\n",
    "from sklearn import metrics\n",
    "metrics.mean_absolute_error(test_y,predictions)\n",
    "metrics.mean_squared_error(test_y,predictions)\n",
    "np.sqrt(metrics.mean_squared_error(test_y, predictions))"
   ]
  }
 ],
 "metadata": {
  "kernelspec": {
   "display_name": "Python 3",
   "language": "python",
   "name": "python3"
  },
  "language_info": {
   "codemirror_mode": {
    "name": "ipython",
    "version": 3
   },
   "file_extension": ".py",
   "mimetype": "text/x-python",
   "name": "python",
   "nbconvert_exporter": "python",
   "pygments_lexer": "ipython3",
   "version": "3.7.12"
  },
  "papermill": {
   "default_parameters": {},
   "duration": 11.792446,
   "end_time": "2022-07-21T13:51:49.354641",
   "environment_variables": {},
   "exception": null,
   "input_path": "__notebook__.ipynb",
   "output_path": "__notebook__.ipynb",
   "parameters": {},
   "start_time": "2022-07-21T13:51:37.562195",
   "version": "2.3.4"
  }
 },
 "nbformat": 4,
 "nbformat_minor": 5
}
